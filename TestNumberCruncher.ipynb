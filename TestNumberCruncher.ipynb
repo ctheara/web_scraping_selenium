{
 "cells": [
  {
   "cell_type": "markdown",
   "metadata": {
    "deletable": false,
    "editable": false
   },
   "source": [
    "# Unit Test for Number Cruncher\n",
    "\n",
    "First, we define a helper function that will allow us to set the value of the *numbers* input to *value* on the page that the web driver is pointing to."
   ]
  },
  {
   "cell_type": "code",
   "execution_count": 31,
   "metadata": {
    "deletable": false,
    "editable": false
   },
   "outputs": [],
   "source": [
    "def enterNumbers(driver, value) :\n",
    "        '''Sets the value of #numbers on the page to the specified string'''\n",
    "        numbers = driver.find_element(By.ID, 'numbers')\n",
    "        numbers.clear()\n",
    "        numbers.send_keys(value)"
   ]
  },
  {
   "cell_type": "markdown",
   "metadata": {
    "deletable": false,
    "editable": false
   },
   "source": [
    "In the code below, we use the *os* module to get the current directory, so we can open the local HTML file using Selenium. In this Notebook, we assume that *number_cruncher.html* is saved in the same directory as this Notebook."
   ]
  },
  {
   "cell_type": "code",
   "execution_count": 32,
   "metadata": {
    "deletable": false,
    "editable": false
   },
   "outputs": [
    {
     "data": {
      "text/plain": [
       "'C:\\\\Users\\\\Theara VivoBook\\\\Documents\\\\GitHub\\\\web_scraping_selenium'"
      ]
     },
     "execution_count": 32,
     "metadata": {},
     "output_type": "execute_result"
    }
   ],
   "source": [
    "import os\n",
    "os.getcwd()"
   ]
  },
  {
   "cell_type": "markdown",
   "metadata": {},
   "source": [
    "### These cells are provided for testing purposes"
   ]
  },
  {
   "cell_type": "code",
   "execution_count": 52,
   "metadata": {},
   "outputs": [
    {
     "name": "stderr",
     "output_type": "stream",
     "text": [
      "C:\\Users\\Theara VivoBook\\anaconda3\\lib\\site-packages\\ipykernel_launcher.py:6: DeprecationWarning: executable_path has been deprecated, please pass in a Service object\n",
      "  \n"
     ]
    }
   ],
   "source": [
    "from selenium import webdriver\n",
    "from selenium.webdriver.firefox.options import Options\n",
    "from selenium.webdriver.common.by import By\n",
    "\n",
    "PATH = \"C:\\\\Program Files (x86)\\\\chromedriver.exe\"\n",
    "driver = webdriver.Chrome(PATH)\n",
    "\n",
    "\n",
    "driver.get('file://' + os.getcwd() + '/number_cruncher.html')"
   ]
  },
  {
   "cell_type": "code",
   "execution_count": 34,
   "metadata": {},
   "outputs": [],
   "source": [
    "enterNumbers(driver, 'hi')\n",
    "\n"
   ]
  },
  {
   "cell_type": "code",
   "execution_count": 35,
   "metadata": {},
   "outputs": [],
   "source": [
    "#answer = driver.find_element(By.ID,'answer')\n",
    "#if (answer.text == 'Error: at least one value is not an integer'):\n",
    "#    driver.execute_script(\"document.getElementById('answer').style.color = 'red';\")\n"
   ]
  },
  {
   "cell_type": "code",
   "execution_count": null,
   "metadata": {},
   "outputs": [],
   "source": []
  },
  {
   "cell_type": "code",
   "execution_count": 36,
   "metadata": {},
   "outputs": [],
   "source": [
    "driver.close()"
   ]
  },
  {
   "cell_type": "markdown",
   "metadata": {
    "deletable": false,
    "editable": false
   },
   "source": [
    "### Define the Unit Testing class (needs to be modified for HW)\n",
    "\n",
    "Next we define the class to conduct the Unit Test (this needs to be extended for the HW). Here we define *setUp* and *tearDown* methods that are automatically executed before and after each unit test. \n",
    "\n",
    "The class is set up to use a global *driver* that must be created before the tests are run. "
   ]
  },
  {
   "cell_type": "code",
   "execution_count": 63,
   "metadata": {},
   "outputs": [],
   "source": [
    "from selenium import webdriver\n",
    "from selenium.webdriver.firefox.options import Options\n",
    "from selenium.webdriver.common.by import By\n",
    "import unittest\n",
    "\n",
    "# define the class that controls the unit testing\n",
    "class TestNumberCruncher(unittest.TestCase):\n",
    "\n",
    "    # setUp is executed at the beginning of each test (open and refresh the page)\n",
    "    def setUp(self) :\n",
    "        driver.get('file://' + os.getcwd() + '/number_cruncher.html')\n",
    "        driver.refresh()\n",
    "    \n",
    "    # tests whether the correct response message is displayed for valid values\n",
    "    def test_addNumbersValidValue(self) :\n",
    "\n",
    "        # test using numbers 1,5,7\n",
    "        enterNumbers(driver, '1,5,7')\n",
    "        \n",
    "        # click the 'add' button\n",
    "        div = driver.find_element(By.ID, 'btnAdd').click()\n",
    "        \n",
    "        # test that correct answer is 13\n",
    "        div = driver.find_element(By.ID, 'answer')\n",
    "        message = div.text\n",
    "        self.assertEqual(message, 'The sum of the numbers is 13')\n",
    "          \n",
    "    # tests whether the correct response message is the right color\n",
    "    def test_addNumbersValidCSS(self) :\n",
    "\n",
    "        # test using numbers 1,5,7\n",
    "        enterNumbers(driver, '1,5,7')\n",
    "        \n",
    "        # click the 'add' button\n",
    "        div = driver.find_element(By.ID, 'btnAdd').click()\n",
    "        \n",
    "        # test whether the color property is correct\n",
    "        div = driver.find_element(By.ID, 'answer')\n",
    "        color = div.value_of_css_property('color')\n",
    "        self.assertEqual(color, 'rgb(0, 128, 0)')\n",
    "\n",
    "        \n",
    "    # tests whether clicking reset clears the input\n",
    "    def test_reset(self) :\n",
    "\n",
    "        # test using numbers 1,5,7\n",
    "        enterNumbers(driver, '1,5,7')\n",
    "        numbers = driver.find_element(By.ID, 'numbers')\n",
    "        \n",
    "        # click the 'reset' button\n",
    "        reset = driver.find_element(By.ID, 'btnReset')\n",
    "        reset.click()\n",
    "        \n",
    "        # get and check the value of the input\n",
    "        value = numbers.get_attribute('value')        \n",
    "        self.assertEqual(value, '')\n",
    "\n",
    "        \n",
    "    # TO DO: add method 'test_addNumbersInvalidValue' that tests whether the\n",
    "    # correct message is displayed if user input is not valid\n",
    "    def test_addNumbersInvalidValue(self) :\n",
    "\n",
    "        # test using numbers 1,5,7\n",
    "        enterNumbers(driver, '1,5,7h')\n",
    "        numbers = driver.find_element(By.ID, 'numbers')\n",
    "        \n",
    "        # click the 'add' button\n",
    "        div = driver.find_element(By.ID, 'btnAdd').click()\n",
    "        \n",
    "        # get and check the value of the input\n",
    "        div = driver.find_element(By.ID, 'answer')\n",
    "        message = div.text\n",
    "        self.assertEqual(message, 'Error: at least one value is not an integer')\n",
    "    \n",
    "    \n",
    "    # TO DO: add method 'test_addNumbersInvalidCSS' that tests whether the response\n",
    "    # message for invalid input is the right color\n",
    "    def test_addNumbersInvalidCSS(self) :\n",
    "\n",
    "        # test using numbers 1,5,7\n",
    "        enterNumbers(driver, '1,5,7fg')\n",
    "        \n",
    "        # click the 'add' button\n",
    "        div = driver.find_element(By.ID, 'btnAdd').click()\n",
    "        \n",
    "        # test whether the color property is correct\n",
    "        div = driver.find_element(By.ID, 'answer')\n",
    "        color = div.value_of_css_property('color')\n",
    "        self.assertEqual(color, 'rgba(255, 0, 0)')\n",
    "    \n",
    "\n",
    "        \n",
    "    # tearDown (not used) is executed at the end of each test\n",
    "    def tearDown(self) :\n",
    "        None\n",
    "    \n"
   ]
  },
  {
   "cell_type": "markdown",
   "metadata": {
    "deletable": false,
    "editable": false
   },
   "source": [
    "### Make driver headless, if desired\n",
    "\n",
    "Set the driver's headless option here. Setting options.headless to True will hide the browser; False will show it."
   ]
  },
  {
   "cell_type": "code",
   "execution_count": 46,
   "metadata": {},
   "outputs": [],
   "source": [
    "options = Options()\n",
    "options.headless = False"
   ]
  },
  {
   "cell_type": "markdown",
   "metadata": {
    "deletable": false,
    "editable": false
   },
   "source": [
    "### Create the driver and execute the tests."
   ]
  },
  {
   "cell_type": "code",
   "execution_count": 57,
   "metadata": {
    "deletable": false,
    "editable": false
   },
   "outputs": [
    {
     "ename": "WebDriverException",
     "evalue": "Message: 'geckodriver' executable needs to be in PATH. \n",
     "output_type": "error",
     "traceback": [
      "\u001b[1;31m---------------------------------------------------------------------------\u001b[0m",
      "\u001b[1;31mFileNotFoundError\u001b[0m                         Traceback (most recent call last)",
      "\u001b[1;32m~\\anaconda3\\lib\\site-packages\\selenium\\webdriver\\common\\service.py\u001b[0m in \u001b[0;36mstart\u001b[1;34m(self)\u001b[0m\n\u001b[0;32m     75\u001b[0m                                             \u001b[0mstdin\u001b[0m\u001b[1;33m=\u001b[0m\u001b[0mPIPE\u001b[0m\u001b[1;33m,\u001b[0m\u001b[1;33m\u001b[0m\u001b[1;33m\u001b[0m\u001b[0m\n\u001b[1;32m---> 76\u001b[1;33m                                             creationflags=self.creationflags)\n\u001b[0m\u001b[0;32m     77\u001b[0m         \u001b[1;32mexcept\u001b[0m \u001b[0mTypeError\u001b[0m\u001b[1;33m:\u001b[0m\u001b[1;33m\u001b[0m\u001b[1;33m\u001b[0m\u001b[0m\n",
      "\u001b[1;32m~\\anaconda3\\lib\\subprocess.py\u001b[0m in \u001b[0;36m__init__\u001b[1;34m(self, args, bufsize, executable, stdin, stdout, stderr, preexec_fn, close_fds, shell, cwd, env, universal_newlines, startupinfo, creationflags, restore_signals, start_new_session, pass_fds, encoding, errors, text)\u001b[0m\n\u001b[0;32m    799\u001b[0m                                 \u001b[0merrread\u001b[0m\u001b[1;33m,\u001b[0m \u001b[0merrwrite\u001b[0m\u001b[1;33m,\u001b[0m\u001b[1;33m\u001b[0m\u001b[1;33m\u001b[0m\u001b[0m\n\u001b[1;32m--> 800\u001b[1;33m                                 restore_signals, start_new_session)\n\u001b[0m\u001b[0;32m    801\u001b[0m         \u001b[1;32mexcept\u001b[0m\u001b[1;33m:\u001b[0m\u001b[1;33m\u001b[0m\u001b[1;33m\u001b[0m\u001b[0m\n",
      "\u001b[1;32m~\\anaconda3\\lib\\subprocess.py\u001b[0m in \u001b[0;36m_execute_child\u001b[1;34m(self, args, executable, preexec_fn, close_fds, pass_fds, cwd, env, startupinfo, creationflags, shell, p2cread, p2cwrite, c2pread, c2pwrite, errread, errwrite, unused_restore_signals, unused_start_new_session)\u001b[0m\n\u001b[0;32m   1206\u001b[0m                                          \u001b[0mos\u001b[0m\u001b[1;33m.\u001b[0m\u001b[0mfspath\u001b[0m\u001b[1;33m(\u001b[0m\u001b[0mcwd\u001b[0m\u001b[1;33m)\u001b[0m \u001b[1;32mif\u001b[0m \u001b[0mcwd\u001b[0m \u001b[1;32mis\u001b[0m \u001b[1;32mnot\u001b[0m \u001b[1;32mNone\u001b[0m \u001b[1;32melse\u001b[0m \u001b[1;32mNone\u001b[0m\u001b[1;33m,\u001b[0m\u001b[1;33m\u001b[0m\u001b[1;33m\u001b[0m\u001b[0m\n\u001b[1;32m-> 1207\u001b[1;33m                                          startupinfo)\n\u001b[0m\u001b[0;32m   1208\u001b[0m             \u001b[1;32mfinally\u001b[0m\u001b[1;33m:\u001b[0m\u001b[1;33m\u001b[0m\u001b[1;33m\u001b[0m\u001b[0m\n",
      "\u001b[1;31mFileNotFoundError\u001b[0m: [WinError 2] The system cannot find the file specified",
      "\nDuring handling of the above exception, another exception occurred:\n",
      "\u001b[1;31mWebDriverException\u001b[0m                        Traceback (most recent call last)",
      "\u001b[1;32m<ipython-input-57-0f69f549d5e6>\u001b[0m in \u001b[0;36m<module>\u001b[1;34m\u001b[0m\n\u001b[0;32m      1\u001b[0m \u001b[1;31m# create the driver (needed for TestNumberCruncher)\u001b[0m\u001b[1;33m\u001b[0m\u001b[1;33m\u001b[0m\u001b[1;33m\u001b[0m\u001b[0m\n\u001b[0;32m      2\u001b[0m \u001b[1;33m\u001b[0m\u001b[0m\n\u001b[1;32m----> 3\u001b[1;33m \u001b[0mdriver\u001b[0m \u001b[1;33m=\u001b[0m \u001b[0mwebdriver\u001b[0m\u001b[1;33m.\u001b[0m\u001b[0mFirefox\u001b[0m\u001b[1;33m(\u001b[0m\u001b[0moptions\u001b[0m \u001b[1;33m=\u001b[0m \u001b[0moptions\u001b[0m\u001b[1;33m)\u001b[0m\u001b[1;33m\u001b[0m\u001b[1;33m\u001b[0m\u001b[0m\n\u001b[0m\u001b[0;32m      4\u001b[0m \u001b[1;33m\u001b[0m\u001b[0m\n\u001b[0;32m      5\u001b[0m \u001b[1;31m# create a suite (collection of tests)\u001b[0m\u001b[1;33m\u001b[0m\u001b[1;33m\u001b[0m\u001b[1;33m\u001b[0m\u001b[0m\n",
      "\u001b[1;32m~\\anaconda3\\lib\\site-packages\\selenium\\webdriver\\firefox\\webdriver.py\u001b[0m in \u001b[0;36m__init__\u001b[1;34m(self, firefox_profile, firefox_binary, capabilities, proxy, executable_path, options, service_log_path, service_args, service, desired_capabilities, log_path, keep_alive)\u001b[0m\n\u001b[0;32m    174\u001b[0m                 \u001b[0mservice_args\u001b[0m\u001b[1;33m=\u001b[0m\u001b[0mservice_args\u001b[0m\u001b[1;33m,\u001b[0m\u001b[1;33m\u001b[0m\u001b[1;33m\u001b[0m\u001b[0m\n\u001b[0;32m    175\u001b[0m                 log_path=service_log_path)\n\u001b[1;32m--> 176\u001b[1;33m         \u001b[0mself\u001b[0m\u001b[1;33m.\u001b[0m\u001b[0mservice\u001b[0m\u001b[1;33m.\u001b[0m\u001b[0mstart\u001b[0m\u001b[1;33m(\u001b[0m\u001b[1;33m)\u001b[0m\u001b[1;33m\u001b[0m\u001b[1;33m\u001b[0m\u001b[0m\n\u001b[0m\u001b[0;32m    177\u001b[0m \u001b[1;33m\u001b[0m\u001b[0m\n\u001b[0;32m    178\u001b[0m         executor = FirefoxRemoteConnection(\n",
      "\u001b[1;32m~\\anaconda3\\lib\\site-packages\\selenium\\webdriver\\common\\service.py\u001b[0m in \u001b[0;36mstart\u001b[1;34m(self)\u001b[0m\n\u001b[0;32m     81\u001b[0m                 raise WebDriverException(\n\u001b[0;32m     82\u001b[0m                     \"'%s' executable needs to be in PATH. %s\" % (\n\u001b[1;32m---> 83\u001b[1;33m                         os.path.basename(self.path), self.start_error_message)\n\u001b[0m\u001b[0;32m     84\u001b[0m                 )\n\u001b[0;32m     85\u001b[0m             \u001b[1;32melif\u001b[0m \u001b[0merr\u001b[0m\u001b[1;33m.\u001b[0m\u001b[0merrno\u001b[0m \u001b[1;33m==\u001b[0m \u001b[0merrno\u001b[0m\u001b[1;33m.\u001b[0m\u001b[0mEACCES\u001b[0m\u001b[1;33m:\u001b[0m\u001b[1;33m\u001b[0m\u001b[1;33m\u001b[0m\u001b[0m\n",
      "\u001b[1;31mWebDriverException\u001b[0m: Message: 'geckodriver' executable needs to be in PATH. \n"
     ]
    }
   ],
   "source": [
    "# create the driver (needed for TestNumberCruncher)\n",
    "\n",
    "driver = webdriver.Firefox(options = options)\n",
    "\n",
    "# create a suite (collection of tests)    \n",
    "suite = unittest.TestLoader().loadTestsFromTestCase(TestNumberCruncher)\n",
    "\n",
    "# run the tests\n",
    "unittest.TextTestRunner(verbosity=2).run(suite)\n",
    "\n",
    "driver.close()"
   ]
  },
  {
   "cell_type": "code",
   "execution_count": 65,
   "metadata": {},
   "outputs": [
    {
     "name": "stderr",
     "output_type": "stream",
     "text": [
      "C:\\Users\\Theara VivoBook\\anaconda3\\lib\\site-packages\\ipykernel_launcher.py:3: DeprecationWarning: executable_path has been deprecated, please pass in a Service object\n",
      "  This is separate from the ipykernel package so we can avoid doing imports until\n",
      "test_addNumbersInvalidCSS (__main__.TestNumberCruncher) ... FAIL\n",
      "test_addNumbersInvalidValue (__main__.TestNumberCruncher) ... ok\n",
      "test_addNumbersValidCSS (__main__.TestNumberCruncher) ... FAIL\n",
      "test_addNumbersValidValue (__main__.TestNumberCruncher) ... ok\n",
      "test_reset (__main__.TestNumberCruncher) ... ok\n",
      "\n",
      "======================================================================\n",
      "FAIL: test_addNumbersInvalidCSS (__main__.TestNumberCruncher)\n",
      "----------------------------------------------------------------------\n",
      "Traceback (most recent call last):\n",
      "  File \"<ipython-input-63-91b708630705>\", line 89, in test_addNumbersInvalidCSS\n",
      "    self.assertEqual(color, 'rgb(255, 0, 0)')\n",
      "AssertionError: 'rgba(255, 0, 0, 1)' != 'rgb(255, 0, 0)'\n",
      "- rgba(255, 0, 0, 1)\n",
      "?    -          ---\n",
      "+ rgb(255, 0, 0)\n",
      "\n",
      "\n",
      "======================================================================\n",
      "FAIL: test_addNumbersValidCSS (__main__.TestNumberCruncher)\n",
      "----------------------------------------------------------------------\n",
      "Traceback (most recent call last):\n",
      "  File \"<ipython-input-63-91b708630705>\", line 40, in test_addNumbersValidCSS\n",
      "    self.assertEqual(color, 'rgb(0, 128, 0)')\n",
      "AssertionError: 'rgba(0, 128, 0, 1)' != 'rgb(0, 128, 0)'\n",
      "- rgba(0, 128, 0, 1)\n",
      "?    -          ---\n",
      "+ rgb(0, 128, 0)\n",
      "\n",
      "\n",
      "----------------------------------------------------------------------\n",
      "Ran 5 tests in 1.028s\n",
      "\n",
      "FAILED (failures=2)\n"
     ]
    }
   ],
   "source": [
    "# create the driver (needed for TestNumberCruncher)\n",
    "PATH = \"C:\\\\Program Files (x86)\\\\chromedriver.exe\"\n",
    "driver = webdriver.Chrome(PATH)\n",
    "#driver = webdriver.Firefox(options = options)\n",
    "\n",
    "# create a suite (collection of tests)    \n",
    "suite = unittest.TestLoader().loadTestsFromTestCase(TestNumberCruncher)\n",
    "\n",
    "# run the tests\n",
    "unittest.TextTestRunner(verbosity=2).run(suite)\n",
    "\n",
    "driver.close()\n",
    "\n",
    "\n"
   ]
  },
  {
   "cell_type": "code",
   "execution_count": null,
   "metadata": {},
   "outputs": [],
   "source": []
  }
 ],
 "metadata": {
  "kernelspec": {
   "display_name": "Python 3",
   "language": "python",
   "name": "python3"
  },
  "language_info": {
   "codemirror_mode": {
    "name": "ipython",
    "version": 3
   },
   "file_extension": ".py",
   "mimetype": "text/x-python",
   "name": "python",
   "nbconvert_exporter": "python",
   "pygments_lexer": "ipython3",
   "version": "3.7.6"
  }
 },
 "nbformat": 4,
 "nbformat_minor": 2
}
