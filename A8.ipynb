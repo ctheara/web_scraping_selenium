{
 "cells": [
  {
   "cell_type": "markdown",
   "metadata": {},
   "source": [
    "### Question 1.\n",
    "Using Selenium, search for a movie on IMDB (https://www.imdb.com/). “Click” on\n",
    "the first result to go to the movie’s page. Then extract its title (including the year)\n",
    "and its rating, and print out the results in the format Ghostbusters (1984) has a\n",
    "rating of 7.8. Note: sleep for 2 seconds after searching for the movie, and sleep for 1\n",
    "second after clicking on the first result (this will help ensure that the page is fully\n",
    "loaded before continuing)."
   ]
  },
  {
   "cell_type": "code",
   "execution_count": 8,
   "metadata": {},
   "outputs": [],
   "source": [
    "from selenium import webdriver\n",
    "from selenium.webdriver.common.keys import Keys\n",
    "from selenium.webdriver.common.by import By\n",
    "import time"
   ]
  },
  {
   "cell_type": "code",
   "execution_count": 9,
   "metadata": {},
   "outputs": [
    {
     "name": "stderr",
     "output_type": "stream",
     "text": [
      "C:\\Users\\Theara VivoBook\\anaconda3\\lib\\site-packages\\ipykernel_launcher.py:2: DeprecationWarning: executable_path has been deprecated, please pass in a Service object\n",
      "  \n"
     ]
    }
   ],
   "source": [
    "PATH = \"C:\\\\Program Files (x86)\\\\chromedriver.exe\"\n",
    "driver = webdriver.Chrome(PATH)"
   ]
  },
  {
   "cell_type": "code",
   "execution_count": 10,
   "metadata": {},
   "outputs": [],
   "source": [
    "driver.get('https://www.imdb.com/')"
   ]
  },
  {
   "cell_type": "code",
   "execution_count": 11,
   "metadata": {},
   "outputs": [],
   "source": [
    "searchButton = driver.find_element(By.ID, 'suggestion-search')\n",
    "searchButton.click()\n",
    "searchButton.send_keys(\"batman\")\n",
    "time.sleep(2)\n",
    "searchButton.send_keys(Keys.RETURN)"
   ]
  },
  {
   "cell_type": "code",
   "execution_count": 15,
   "metadata": {},
   "outputs": [
    {
     "ename": "NoSuchElementException",
     "evalue": "Message: no such element: Unable to locate element: {\"method\":\"css selector\",\"selector\":\"tr\"}\n  (Session info: chrome=100.0.4896.60)\nStacktrace:\nBacktrace:\n\tOrdinal0 [0x003C7413+2389011]\n\tOrdinal0 [0x00359F61+1941345]\n\tOrdinal0 [0x0024C658+837208]\n\tOrdinal0 [0x002791DD+1020381]\n\tOrdinal0 [0x0027949B+1021083]\n\tOrdinal0 [0x002A6032+1204274]\n\tOrdinal0 [0x00294194+1130900]\n\tOrdinal0 [0x002A4302+1196802]\n\tOrdinal0 [0x00293F66+1130342]\n\tOrdinal0 [0x0026E546+976198]\n\tOrdinal0 [0x0026F456+980054]\n\tGetHandleVerifier [0x00579632+1727522]\n\tGetHandleVerifier [0x0062BA4D+2457661]\n\tGetHandleVerifier [0x0045EB81+569713]\n\tGetHandleVerifier [0x0045DD76+566118]\n\tOrdinal0 [0x00360B2B+1968939]\n\tOrdinal0 [0x00365988+1989000]\n\tOrdinal0 [0x00365A75+1989237]\n\tOrdinal0 [0x0036ECB1+2026673]\n\tBaseThreadInitThunk [0x75D7FA29+25]\n\tRtlGetAppContainerNamedObjectPath [0x77BE7A7E+286]\n\tRtlGetAppContainerNamedObjectPath [0x77BE7A4E+238]\n",
     "output_type": "error",
     "traceback": [
      "\u001b[1;31m---------------------------------------------------------------------------\u001b[0m",
      "\u001b[1;31mNoSuchElementException\u001b[0m                    Traceback (most recent call last)",
      "\u001b[1;32m<ipython-input-15-dca7c25fc769>\u001b[0m in \u001b[0;36m<module>\u001b[1;34m\u001b[0m\n\u001b[0;32m      1\u001b[0m \u001b[1;31m#find movie result list\u001b[0m\u001b[1;33m\u001b[0m\u001b[1;33m\u001b[0m\u001b[1;33m\u001b[0m\u001b[0m\n\u001b[1;32m----> 2\u001b[1;33m \u001b[0mtr\u001b[0m \u001b[1;33m=\u001b[0m \u001b[0mdriver\u001b[0m\u001b[1;33m.\u001b[0m\u001b[0mfind_element\u001b[0m\u001b[1;33m(\u001b[0m\u001b[0mBy\u001b[0m\u001b[1;33m.\u001b[0m\u001b[0mTAG_NAME\u001b[0m\u001b[1;33m,\u001b[0m \u001b[1;34m'tr'\u001b[0m\u001b[1;33m)\u001b[0m\u001b[1;33m\u001b[0m\u001b[1;33m\u001b[0m\u001b[0m\n\u001b[0m",
      "\u001b[1;32m~\\anaconda3\\lib\\site-packages\\selenium\\webdriver\\remote\\webdriver.py\u001b[0m in \u001b[0;36mfind_element\u001b[1;34m(self, by, value)\u001b[0m\n\u001b[0;32m   1248\u001b[0m         return self.execute(Command.FIND_ELEMENT, {\n\u001b[0;32m   1249\u001b[0m             \u001b[1;34m'using'\u001b[0m\u001b[1;33m:\u001b[0m \u001b[0mby\u001b[0m\u001b[1;33m,\u001b[0m\u001b[1;33m\u001b[0m\u001b[1;33m\u001b[0m\u001b[0m\n\u001b[1;32m-> 1250\u001b[1;33m             'value': value})['value']\n\u001b[0m\u001b[0;32m   1251\u001b[0m \u001b[1;33m\u001b[0m\u001b[0m\n\u001b[0;32m   1252\u001b[0m     \u001b[1;32mdef\u001b[0m \u001b[0mfind_elements\u001b[0m\u001b[1;33m(\u001b[0m\u001b[0mself\u001b[0m\u001b[1;33m,\u001b[0m \u001b[0mby\u001b[0m\u001b[1;33m=\u001b[0m\u001b[0mBy\u001b[0m\u001b[1;33m.\u001b[0m\u001b[0mID\u001b[0m\u001b[1;33m,\u001b[0m \u001b[0mvalue\u001b[0m\u001b[1;33m=\u001b[0m\u001b[1;32mNone\u001b[0m\u001b[1;33m)\u001b[0m \u001b[1;33m->\u001b[0m \u001b[0mList\u001b[0m\u001b[1;33m[\u001b[0m\u001b[0mWebElement\u001b[0m\u001b[1;33m]\u001b[0m\u001b[1;33m:\u001b[0m\u001b[1;33m\u001b[0m\u001b[1;33m\u001b[0m\u001b[0m\n",
      "\u001b[1;32m~\\anaconda3\\lib\\site-packages\\selenium\\webdriver\\remote\\webdriver.py\u001b[0m in \u001b[0;36mexecute\u001b[1;34m(self, driver_command, params)\u001b[0m\n\u001b[0;32m    423\u001b[0m         \u001b[0mresponse\u001b[0m \u001b[1;33m=\u001b[0m \u001b[0mself\u001b[0m\u001b[1;33m.\u001b[0m\u001b[0mcommand_executor\u001b[0m\u001b[1;33m.\u001b[0m\u001b[0mexecute\u001b[0m\u001b[1;33m(\u001b[0m\u001b[0mdriver_command\u001b[0m\u001b[1;33m,\u001b[0m \u001b[0mparams\u001b[0m\u001b[1;33m)\u001b[0m\u001b[1;33m\u001b[0m\u001b[1;33m\u001b[0m\u001b[0m\n\u001b[0;32m    424\u001b[0m         \u001b[1;32mif\u001b[0m \u001b[0mresponse\u001b[0m\u001b[1;33m:\u001b[0m\u001b[1;33m\u001b[0m\u001b[1;33m\u001b[0m\u001b[0m\n\u001b[1;32m--> 425\u001b[1;33m             \u001b[0mself\u001b[0m\u001b[1;33m.\u001b[0m\u001b[0merror_handler\u001b[0m\u001b[1;33m.\u001b[0m\u001b[0mcheck_response\u001b[0m\u001b[1;33m(\u001b[0m\u001b[0mresponse\u001b[0m\u001b[1;33m)\u001b[0m\u001b[1;33m\u001b[0m\u001b[1;33m\u001b[0m\u001b[0m\n\u001b[0m\u001b[0;32m    426\u001b[0m             response['value'] = self._unwrap_value(\n\u001b[0;32m    427\u001b[0m                 response.get('value', None))\n",
      "\u001b[1;32m~\\anaconda3\\lib\\site-packages\\selenium\\webdriver\\remote\\errorhandler.py\u001b[0m in \u001b[0;36mcheck_response\u001b[1;34m(self, response)\u001b[0m\n\u001b[0;32m    245\u001b[0m                 \u001b[0malert_text\u001b[0m \u001b[1;33m=\u001b[0m \u001b[0mvalue\u001b[0m\u001b[1;33m[\u001b[0m\u001b[1;34m'alert'\u001b[0m\u001b[1;33m]\u001b[0m\u001b[1;33m.\u001b[0m\u001b[0mget\u001b[0m\u001b[1;33m(\u001b[0m\u001b[1;34m'text'\u001b[0m\u001b[1;33m)\u001b[0m\u001b[1;33m\u001b[0m\u001b[1;33m\u001b[0m\u001b[0m\n\u001b[0;32m    246\u001b[0m             \u001b[1;32mraise\u001b[0m \u001b[0mexception_class\u001b[0m\u001b[1;33m(\u001b[0m\u001b[0mmessage\u001b[0m\u001b[1;33m,\u001b[0m \u001b[0mscreen\u001b[0m\u001b[1;33m,\u001b[0m \u001b[0mstacktrace\u001b[0m\u001b[1;33m,\u001b[0m \u001b[0malert_text\u001b[0m\u001b[1;33m)\u001b[0m  \u001b[1;31m# type: ignore[call-arg]  # mypy is not smart enough here\u001b[0m\u001b[1;33m\u001b[0m\u001b[1;33m\u001b[0m\u001b[0m\n\u001b[1;32m--> 247\u001b[1;33m         \u001b[1;32mraise\u001b[0m \u001b[0mexception_class\u001b[0m\u001b[1;33m(\u001b[0m\u001b[0mmessage\u001b[0m\u001b[1;33m,\u001b[0m \u001b[0mscreen\u001b[0m\u001b[1;33m,\u001b[0m \u001b[0mstacktrace\u001b[0m\u001b[1;33m)\u001b[0m\u001b[1;33m\u001b[0m\u001b[1;33m\u001b[0m\u001b[0m\n\u001b[0m\u001b[0;32m    248\u001b[0m \u001b[1;33m\u001b[0m\u001b[0m\n\u001b[0;32m    249\u001b[0m     \u001b[1;32mdef\u001b[0m \u001b[0m_value_or_default\u001b[0m\u001b[1;33m(\u001b[0m\u001b[0mself\u001b[0m\u001b[1;33m,\u001b[0m \u001b[0mobj\u001b[0m\u001b[1;33m:\u001b[0m \u001b[0mMapping\u001b[0m\u001b[1;33m[\u001b[0m\u001b[0m_KT\u001b[0m\u001b[1;33m,\u001b[0m \u001b[0m_VT\u001b[0m\u001b[1;33m]\u001b[0m\u001b[1;33m,\u001b[0m \u001b[0mkey\u001b[0m\u001b[1;33m:\u001b[0m \u001b[0m_KT\u001b[0m\u001b[1;33m,\u001b[0m \u001b[0mdefault\u001b[0m\u001b[1;33m:\u001b[0m \u001b[0m_VT\u001b[0m\u001b[1;33m)\u001b[0m \u001b[1;33m->\u001b[0m \u001b[0m_VT\u001b[0m\u001b[1;33m:\u001b[0m\u001b[1;33m\u001b[0m\u001b[1;33m\u001b[0m\u001b[0m\n",
      "\u001b[1;31mNoSuchElementException\u001b[0m: Message: no such element: Unable to locate element: {\"method\":\"css selector\",\"selector\":\"tr\"}\n  (Session info: chrome=100.0.4896.60)\nStacktrace:\nBacktrace:\n\tOrdinal0 [0x003C7413+2389011]\n\tOrdinal0 [0x00359F61+1941345]\n\tOrdinal0 [0x0024C658+837208]\n\tOrdinal0 [0x002791DD+1020381]\n\tOrdinal0 [0x0027949B+1021083]\n\tOrdinal0 [0x002A6032+1204274]\n\tOrdinal0 [0x00294194+1130900]\n\tOrdinal0 [0x002A4302+1196802]\n\tOrdinal0 [0x00293F66+1130342]\n\tOrdinal0 [0x0026E546+976198]\n\tOrdinal0 [0x0026F456+980054]\n\tGetHandleVerifier [0x00579632+1727522]\n\tGetHandleVerifier [0x0062BA4D+2457661]\n\tGetHandleVerifier [0x0045EB81+569713]\n\tGetHandleVerifier [0x0045DD76+566118]\n\tOrdinal0 [0x00360B2B+1968939]\n\tOrdinal0 [0x00365988+1989000]\n\tOrdinal0 [0x00365A75+1989237]\n\tOrdinal0 [0x0036ECB1+2026673]\n\tBaseThreadInitThunk [0x75D7FA29+25]\n\tRtlGetAppContainerNamedObjectPath [0x77BE7A7E+286]\n\tRtlGetAppContainerNamedObjectPath [0x77BE7A4E+238]\n"
     ]
    }
   ],
   "source": [
    "#find movie result list\n",
    "tr = driver.find_element(By.TAG_NAME, 'tr')"
   ]
  },
  {
   "cell_type": "code",
   "execution_count": 6,
   "metadata": {},
   "outputs": [],
   "source": [
    "#click on first result\n",
    "list_items = tr.find_elements(By.TAG_NAME, 'td')\n",
    "for li in list_items :\n",
    "    li.click()\n",
    "    time.sleep(1)\n",
    "    break\n",
    "#another way --> tr.find_element(By.TAG_NAME, 'a').click()"
   ]
  },
  {
   "cell_type": "code",
   "execution_count": 7,
   "metadata": {},
   "outputs": [
    {
     "name": "stdout",
     "output_type": "stream",
     "text": [
      "The Batman (2022) has a rating of 8.3.\n"
     ]
    }
   ],
   "source": [
    "#get title, year, and rating, then output\n",
    "title = \"\"\n",
    "year = \"\"\n",
    "rating = \"\"\n",
    "\n",
    "titleElement = driver.find_elements(By.CLASS_NAME, 'sc-b73cd867-0')\n",
    "for li in titleElement:\n",
    "    title = li.text\n",
    "    break\n",
    "##Another way to get title\n",
    "#title = driver.find_element(By.TAG_NAME, 'h1')\n",
    "#title.text\n",
    "\n",
    "#get year of movie\n",
    "yearElement = driver.find_element(By.CSS_SELECTOR, 'div.sc-94726ce4-3 li:nth-child(1)')\n",
    "year = yearElement.text\n",
    "\n",
    "#get rating of movie\n",
    "ratingElement = driver.find_elements(By.CLASS_NAME, 'sc-7ab21ed2-1')\n",
    "rating = ratingElement[0].text\n",
    "\n",
    "print(title,'('+ year +')','has a rating of', rating+'.')"
   ]
  },
  {
   "cell_type": "code",
   "execution_count": null,
   "metadata": {},
   "outputs": [],
   "source": []
  },
  {
   "cell_type": "code",
   "execution_count": null,
   "metadata": {},
   "outputs": [],
   "source": []
  }
 ],
 "metadata": {
  "kernelspec": {
   "display_name": "Python 3",
   "language": "python",
   "name": "python3"
  },
  "language_info": {
   "codemirror_mode": {
    "name": "ipython",
    "version": 3
   },
   "file_extension": ".py",
   "mimetype": "text/x-python",
   "name": "python",
   "nbconvert_exporter": "python",
   "pygments_lexer": "ipython3",
   "version": "3.7.6"
  }
 },
 "nbformat": 4,
 "nbformat_minor": 4
}
