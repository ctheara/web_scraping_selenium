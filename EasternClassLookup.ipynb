{
 "cells": [
  {
   "cell_type": "markdown",
   "id": "3ca44c32",
   "metadata": {
    "deletable": false,
    "editable": false
   },
   "source": [
    "# Eastern Class Lookup\n",
    "\n",
    "Add code below to look up class times for a class entered by the user, for the default term. Your code must be able to separate the course subject (e.g., 'CSC') from the course number (e.g., '301'), and should handle user input that has an invalid format. For example, if the correct format is 'CSC 301' but the user enters 'CSC-301', your code should print an error message and stop running. To stop the code from executing, you can use the `exit()` function, which will restart the kernel. Note that you do not need to check for a valid subject and course number. For example, if the user enters 'ABC 999', you would use selenium to look up that course, but will not get any results.\n",
    "\n",
    "You should sleep for 1 second after clicking on any button.\n",
    "\n",
    "For an additional challenge (not required), extract the class times from the final page and output them in Python."
   ]
  },
  {
   "cell_type": "code",
   "execution_count": null,
   "id": "d0dc1cb6",
   "metadata": {
    "deletable": false,
    "editable": false
   },
   "outputs": [],
   "source": [
    "myclass = input('Enter a class to look up (e.g., CSC 210): ')\n",
    "myclass"
   ]
  },
  {
   "cell_type": "markdown",
   "id": "bcc15cc9",
   "metadata": {},
   "source": [
    "### Handle improperly formatted input here"
   ]
  },
  {
   "cell_type": "code",
   "execution_count": null,
   "id": "03133bad",
   "metadata": {},
   "outputs": [],
   "source": []
  },
  {
   "cell_type": "markdown",
   "id": "93266ef3",
   "metadata": {
    "deletable": false,
    "editable": false
   },
   "source": [
    "### Change the executable_path if necessary. \n",
    "\n",
    "Note that the default path is simply 'geckodriver', which will work if the 'geckodriver' executable is on the class path."
   ]
  },
  {
   "cell_type": "code",
   "execution_count": null,
   "id": "f6d3643e",
   "metadata": {},
   "outputs": [],
   "source": [
    "executable_path = 'geckodriver'"
   ]
  },
  {
   "cell_type": "code",
   "execution_count": null,
   "id": "9b41e64b",
   "metadata": {
    "deletable": false,
    "editable": false
   },
   "outputs": [],
   "source": [
    "from selenium import webdriver\n",
    "from selenium.webdriver.common.keys import Keys\n",
    "from selenium.webdriver.common.by import By\n",
    "import time\n",
    "\n",
    "driver = webdriver.Firefox(executable_path=executable_path)\n",
    "driver.get(\"https://ssb-prod.ec.easternct.edu/PROD/bwskfcls.p_termsel\")"
   ]
  },
  {
   "cell_type": "code",
   "execution_count": null,
   "id": "0346bbec",
   "metadata": {},
   "outputs": [],
   "source": []
  }
 ],
 "metadata": {
  "kernelspec": {
   "display_name": "Python 3 (ipykernel)",
   "language": "python",
   "name": "python3"
  },
  "language_info": {
   "codemirror_mode": {
    "name": "ipython",
    "version": 3
   },
   "file_extension": ".py",
   "mimetype": "text/x-python",
   "name": "python",
   "nbconvert_exporter": "python",
   "pygments_lexer": "ipython3",
   "version": "3.9.7"
  }
 },
 "nbformat": 4,
 "nbformat_minor": 5
}
