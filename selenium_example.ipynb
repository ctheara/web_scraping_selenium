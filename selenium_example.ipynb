{
 "cells": [
  {
   "cell_type": "markdown",
   "metadata": {
    "deletable": false,
    "editable": false
   },
   "source": [
    "# Selenium\n",
    "\n",
    "Selenium (https://www.seleniumhq.org/) automates browsers. Primarily, it is for automating web applications for testing purposes, but it not limited to just that. Boring web-based tasks can (and should!) be automated.\n",
    "\n",
    "In the code cell below, the statement\n",
    "```python\n",
    "from selenium import webdriver\n",
    "```\n",
    "is used to import the webdriver, which is always necessary for automating browsing."
   ]
  },
  {
   "cell_type": "code",
   "execution_count": 1,
   "metadata": {
    "deletable": false,
    "editable": false
   },
   "outputs": [],
   "source": [
    "from selenium import webdriver\n",
    "from selenium.webdriver.common.by import By"
   ]
  },
  {
   "cell_type": "markdown",
   "metadata": {
    "deletable": false,
    "editable": false
   },
   "source": [
    "### Using selenium to open a website\n",
    "\n",
    "We first need to create an object for the web driver, which we use to open the page. In our class we use the Firefox webdriver, but others are available (see section 1.5 here: https://selenium-python.readthedocs.io/installation.html)\n",
    "\n",
    "Note that on a school computer, you will need to specify the executable path to the webdriver, but this (likely) will not be the case on your personal computer.\n",
    "\n",
    "```python\n",
    "driver = webdriver.Firefox(executable_path='C:\\geckodriver\\geckodriver.exe')\n",
    "```\n",
    "\n",
    "Create the web driver object that controls the browser; this will open a Firefox brower with an empty url."
   ]
  },
  {
   "cell_type": "code",
   "execution_count": 2,
   "metadata": {
    "deletable": false,
    "editable": false
   },
   "outputs": [
    {
     "ename": "WebDriverException",
     "evalue": "Message: 'geckodriver' executable needs to be in PATH. \n",
     "output_type": "error",
     "traceback": [
      "\u001b[1;31m---------------------------------------------------------------------------\u001b[0m",
      "\u001b[1;31mFileNotFoundError\u001b[0m                         Traceback (most recent call last)",
      "\u001b[1;32m~\\anaconda3\\lib\\site-packages\\selenium\\webdriver\\common\\service.py\u001b[0m in \u001b[0;36mstart\u001b[1;34m(self)\u001b[0m\n\u001b[0;32m     75\u001b[0m                                             \u001b[0mstdin\u001b[0m\u001b[1;33m=\u001b[0m\u001b[0mPIPE\u001b[0m\u001b[1;33m,\u001b[0m\u001b[1;33m\u001b[0m\u001b[1;33m\u001b[0m\u001b[0m\n\u001b[1;32m---> 76\u001b[1;33m                                             creationflags=self.creationflags)\n\u001b[0m\u001b[0;32m     77\u001b[0m         \u001b[1;32mexcept\u001b[0m \u001b[0mTypeError\u001b[0m\u001b[1;33m:\u001b[0m\u001b[1;33m\u001b[0m\u001b[1;33m\u001b[0m\u001b[0m\n",
      "\u001b[1;32m~\\anaconda3\\lib\\subprocess.py\u001b[0m in \u001b[0;36m__init__\u001b[1;34m(self, args, bufsize, executable, stdin, stdout, stderr, preexec_fn, close_fds, shell, cwd, env, universal_newlines, startupinfo, creationflags, restore_signals, start_new_session, pass_fds, encoding, errors, text)\u001b[0m\n\u001b[0;32m    799\u001b[0m                                 \u001b[0merrread\u001b[0m\u001b[1;33m,\u001b[0m \u001b[0merrwrite\u001b[0m\u001b[1;33m,\u001b[0m\u001b[1;33m\u001b[0m\u001b[1;33m\u001b[0m\u001b[0m\n\u001b[1;32m--> 800\u001b[1;33m                                 restore_signals, start_new_session)\n\u001b[0m\u001b[0;32m    801\u001b[0m         \u001b[1;32mexcept\u001b[0m\u001b[1;33m:\u001b[0m\u001b[1;33m\u001b[0m\u001b[1;33m\u001b[0m\u001b[0m\n",
      "\u001b[1;32m~\\anaconda3\\lib\\subprocess.py\u001b[0m in \u001b[0;36m_execute_child\u001b[1;34m(self, args, executable, preexec_fn, close_fds, pass_fds, cwd, env, startupinfo, creationflags, shell, p2cread, p2cwrite, c2pread, c2pwrite, errread, errwrite, unused_restore_signals, unused_start_new_session)\u001b[0m\n\u001b[0;32m   1206\u001b[0m                                          \u001b[0mos\u001b[0m\u001b[1;33m.\u001b[0m\u001b[0mfspath\u001b[0m\u001b[1;33m(\u001b[0m\u001b[0mcwd\u001b[0m\u001b[1;33m)\u001b[0m \u001b[1;32mif\u001b[0m \u001b[0mcwd\u001b[0m \u001b[1;32mis\u001b[0m \u001b[1;32mnot\u001b[0m \u001b[1;32mNone\u001b[0m \u001b[1;32melse\u001b[0m \u001b[1;32mNone\u001b[0m\u001b[1;33m,\u001b[0m\u001b[1;33m\u001b[0m\u001b[1;33m\u001b[0m\u001b[0m\n\u001b[1;32m-> 1207\u001b[1;33m                                          startupinfo)\n\u001b[0m\u001b[0;32m   1208\u001b[0m             \u001b[1;32mfinally\u001b[0m\u001b[1;33m:\u001b[0m\u001b[1;33m\u001b[0m\u001b[1;33m\u001b[0m\u001b[0m\n",
      "\u001b[1;31mFileNotFoundError\u001b[0m: [WinError 2] The system cannot find the file specified",
      "\nDuring handling of the above exception, another exception occurred:\n",
      "\u001b[1;31mWebDriverException\u001b[0m                        Traceback (most recent call last)",
      "\u001b[1;32m<ipython-input-2-a807687b0e15>\u001b[0m in \u001b[0;36m<module>\u001b[1;34m\u001b[0m\n\u001b[1;32m----> 1\u001b[1;33m \u001b[0mdriver\u001b[0m \u001b[1;33m=\u001b[0m \u001b[0mwebdriver\u001b[0m\u001b[1;33m.\u001b[0m\u001b[0mFirefox\u001b[0m\u001b[1;33m(\u001b[0m\u001b[1;33m)\u001b[0m\u001b[1;33m\u001b[0m\u001b[1;33m\u001b[0m\u001b[0m\n\u001b[0m",
      "\u001b[1;32m~\\anaconda3\\lib\\site-packages\\selenium\\webdriver\\firefox\\webdriver.py\u001b[0m in \u001b[0;36m__init__\u001b[1;34m(self, firefox_profile, firefox_binary, capabilities, proxy, executable_path, options, service_log_path, service_args, service, desired_capabilities, log_path, keep_alive)\u001b[0m\n\u001b[0;32m    174\u001b[0m                 \u001b[0mservice_args\u001b[0m\u001b[1;33m=\u001b[0m\u001b[0mservice_args\u001b[0m\u001b[1;33m,\u001b[0m\u001b[1;33m\u001b[0m\u001b[1;33m\u001b[0m\u001b[0m\n\u001b[0;32m    175\u001b[0m                 log_path=service_log_path)\n\u001b[1;32m--> 176\u001b[1;33m         \u001b[0mself\u001b[0m\u001b[1;33m.\u001b[0m\u001b[0mservice\u001b[0m\u001b[1;33m.\u001b[0m\u001b[0mstart\u001b[0m\u001b[1;33m(\u001b[0m\u001b[1;33m)\u001b[0m\u001b[1;33m\u001b[0m\u001b[1;33m\u001b[0m\u001b[0m\n\u001b[0m\u001b[0;32m    177\u001b[0m \u001b[1;33m\u001b[0m\u001b[0m\n\u001b[0;32m    178\u001b[0m         executor = FirefoxRemoteConnection(\n",
      "\u001b[1;32m~\\anaconda3\\lib\\site-packages\\selenium\\webdriver\\common\\service.py\u001b[0m in \u001b[0;36mstart\u001b[1;34m(self)\u001b[0m\n\u001b[0;32m     81\u001b[0m                 raise WebDriverException(\n\u001b[0;32m     82\u001b[0m                     \"'%s' executable needs to be in PATH. %s\" % (\n\u001b[1;32m---> 83\u001b[1;33m                         os.path.basename(self.path), self.start_error_message)\n\u001b[0m\u001b[0;32m     84\u001b[0m                 )\n\u001b[0;32m     85\u001b[0m             \u001b[1;32melif\u001b[0m \u001b[0merr\u001b[0m\u001b[1;33m.\u001b[0m\u001b[0merrno\u001b[0m \u001b[1;33m==\u001b[0m \u001b[0merrno\u001b[0m\u001b[1;33m.\u001b[0m\u001b[0mEACCES\u001b[0m\u001b[1;33m:\u001b[0m\u001b[1;33m\u001b[0m\u001b[1;33m\u001b[0m\u001b[0m\n",
      "\u001b[1;31mWebDriverException\u001b[0m: Message: 'geckodriver' executable needs to be in PATH. \n"
     ]
    }
   ],
   "source": [
    "driver = webdriver.Firefox()"
   ]
  },
  {
   "cell_type": "code",
   "execution_count": 13,
   "metadata": {},
   "outputs": [
    {
     "name": "stderr",
     "output_type": "stream",
     "text": [
      "C:\\Users\\Theara VivoBook\\anaconda3\\lib\\site-packages\\ipykernel_launcher.py:2: DeprecationWarning: executable_path has been deprecated, please pass in a Service object\n",
      "  \n"
     ]
    }
   ],
   "source": [
    "PATH = \"C:\\\\Program Files (x86)\\\\chromedriver.exe\"\n",
    "driver = webdriver.Chrome(PATH)"
   ]
  },
  {
   "cell_type": "markdown",
   "metadata": {
    "deletable": false,
    "editable": false
   },
   "source": [
    "To browse to a page, simply use the *driver.get* method and specify the URL."
   ]
  },
  {
   "cell_type": "code",
   "execution_count": 25,
   "metadata": {
    "deletable": false,
    "editable": false
   },
   "outputs": [],
   "source": [
    "driver.get('http://www.easternct.edu')"
   ]
  },
  {
   "cell_type": "code",
   "execution_count": null,
   "metadata": {},
   "outputs": [],
   "source": []
  },
  {
   "cell_type": "markdown",
   "metadata": {
    "deletable": false,
    "editable": false
   },
   "source": [
    "### Locating elements\n",
    "\n",
    "In order to find the *first* element matching a particular *id*, *tag name*, etc, use the *find_element* method:\n",
    "\n",
    "```python\n",
    "find_element(By.TAG_NAME, value)\n",
    "```\n",
    "\n",
    "In order to find multiple elements that match, use the *find_elements* method, which returns a list:\n",
    "\n",
    "```python\n",
    "find_elements(By.TAG_NAME, value)\n",
    "```\n",
    "\n",
    "These methods can be called using the *driver* or any selenium web element.\n",
    "\n",
    "The first argument can be any one of the following, and the second argument is the corresponding *value* to search for:\n",
    "\n",
    "- By.ID \n",
    "- By.XPATH\n",
    "- By.LINK_TEXT\n",
    "- By.PARTIAL_LINK_TEXT\n",
    "- By.NAME\n",
    "- By.TAG_NAME\n",
    "- By.CLASS_NAME\n",
    "- By.CSS_SELECTOR\n",
    "\n",
    "Note: For CLASS_NAME, any elements with that class will be returned (even if the element contains multiple classes). \n",
    "\n",
    "Note: if no elements exist, a *NoSuchElementException* will be raised."
   ]
  },
  {
   "cell_type": "markdown",
   "metadata": {
    "deletable": false,
    "editable": false
   },
   "source": [
    "The code below finds the first *ul* element on the page, which holds the list of menu items in the header of the page. The element is stored in a *webelement* object."
   ]
  },
  {
   "cell_type": "code",
   "execution_count": 32,
   "metadata": {
    "deletable": false,
    "editable": false
   },
   "outputs": [
    {
     "data": {
      "text/plain": [
       "<selenium.webdriver.remote.webelement.WebElement (session=\"a78247c7e8c2369e440de47a63df7a19\", element=\"db4b8718-c8d3-420f-9621-a3a6af9f3199\")>"
      ]
     },
     "execution_count": 32,
     "metadata": {},
     "output_type": "execute_result"
    }
   ],
   "source": [
    "ul = driver.find_element(By.TAG_NAME, 'ul')\n",
    "ul"
   ]
  },
  {
   "cell_type": "markdown",
   "metadata": {
    "deletable": false,
    "editable": false
   },
   "source": [
    "### Extracting text from elements\n",
    "To extract text from an element, simply access its *text* field."
   ]
  },
  {
   "cell_type": "code",
   "execution_count": 33,
   "metadata": {},
   "outputs": [
    {
     "name": "stdout",
     "output_type": "stream",
     "text": [
      "APPLY\n",
      "VISIT\n",
      "REQUEST INFO\n",
      "GIVE\n"
     ]
    }
   ],
   "source": [
    "list_items = ul.find_elements(By.TAG_NAME, 'li')\n",
    "for li in list_items :\n",
    "    print(li.text)"
   ]
  },
  {
   "cell_type": "markdown",
   "metadata": {
    "deletable": false,
    "editable": false
   },
   "source": [
    "### Clicking on an element\n",
    "\n",
    "You can click on an element using the *click* method. Note that you will get an error if the element cannot be clicked. For example, this happens if you run the cell below twice."
   ]
  },
  {
   "cell_type": "code",
   "execution_count": 38,
   "metadata": {
    "deletable": false,
    "editable": false
   },
   "outputs": [],
   "source": [
    "searchButton = driver.find_element(By.ID, 'search-button')\n",
    "searchButton.click()"
   ]
  },
  {
   "cell_type": "markdown",
   "metadata": {
    "deletable": false,
    "editable": false
   },
   "source": [
    "### Adding text to an input\n",
    "\n",
    "The *send_keys* method can be used to add text to an input. Here we add \"How are you\" to the search input that is now visible because we clicked on the search icon."
   ]
  },
  {
   "cell_type": "code",
   "execution_count": 39,
   "metadata": {
    "deletable": false,
    "editable": false
   },
   "outputs": [],
   "source": [
    "elem = driver.find_element(By.ID, 'q')\n",
    "elem.send_keys(\"How are you?\")"
   ]
  },
  {
   "cell_type": "markdown",
   "metadata": {
    "deletable": false,
    "editable": false
   },
   "source": [
    "We can clear input using the *clear* method."
   ]
  },
  {
   "cell_type": "code",
   "execution_count": 19,
   "metadata": {
    "deletable": false,
    "editable": false
   },
   "outputs": [],
   "source": [
    "elem.clear()"
   ]
  },
  {
   "cell_type": "markdown",
   "metadata": {
    "deletable": false,
    "editable": false
   },
   "source": [
    "Let's search for \"Computer Science\", by entering the text and then pressing the *Enter* key.\n",
    "\n",
    "The statement\n",
    "```python\n",
    "from selenium.webdriver.common.keys import Keys\n",
    "```\n",
    "is needed so that we can simulate a user hitting the ENTER (RETURN) button."
   ]
  },
  {
   "cell_type": "code",
   "execution_count": 20,
   "metadata": {
    "deletable": false,
    "editable": false
   },
   "outputs": [],
   "source": [
    "from selenium.webdriver.common.keys import Keys\n",
    "elem.send_keys('Computer Science')\n",
    "elem.send_keys(Keys.RETURN)"
   ]
  },
  {
   "cell_type": "markdown",
   "metadata": {
    "deletable": false,
    "editable": false
   },
   "source": [
    "### Getting the value of an attribute\n",
    "\n",
    "The method *get_attribute* can be used to get the value of an attribute of an element. Here we get all links on the page, and display the text of the link as well as the URL (the *href* attribute)."
   ]
  },
  {
   "cell_type": "code",
   "execution_count": 21,
   "metadata": {
    "deletable": false,
    "editable": false
   },
   "outputs": [
    {
     "name": "stdout",
     "output_type": "stream",
     "text": [
      "The Computer Science Program: https://www.easternct.edu/computer-science/\n",
      "Computer Science - Eastern: https://www.easternct.edu/computer-science/index.html\n",
      "Computer Science Minor - Eastern: https://www.easternct.edu/computer-science/programs-of-study/minors/computer-science-minor.html\n",
      "Computer Science Major: BS Degree Requirements - Eastern: https://www.easternct.edu/computer-science/programs-of-study/computer-science-major-course-requirements.html\n",
      "Computer Science Major - Eastern: https://www.easternct.edu/programs/computer-science.html\n",
      "Computer Science Major: Course Sequence - Eastern: https://www.easternct.edu/computer-science/programs-of-study/computer-science-sequence.html\n",
      "Computer Science Concentration - Eastern: https://www.easternct.edu/mathematical-sciences/programs-of-study/concentrations/computer-science-concentration.html\n",
      "Upsilon Pi Epsilon - Eastern: https://www.easternct.edu/computer-science/resources/upsilon-pi-epsilon.html\n",
      "Department - Computer Science - Eastern: https://www.easternct.edu/scholarships/departments/computer-science.html\n",
      "Computer Science - Eastern: https://www.easternct.edu/news/news-index-pages/computer-science.html\n",
      "Computer Science Major Learning Outcomes - Eastern: https://www.easternct.edu/computer-science/learning-outcomes/computer-science-major-learning-outcomes.html\n",
      "searchSearch for Computer Science on Google: https://www.google.com/search?client=ms-google-coop&q=Computer+Science&cx=015963256972996848925:1fqh-ftnmxc\n",
      "CONTACT US: https://www.easternct.edu/connect-with-us/contact-us.html\n",
      "JOBS AT EASTERN: https://www.easternct.edu/human-resources/job-opportunities.html\n",
      "MAPS: https://www.easternct.edu/maps/index.html\n",
      "DISCLAIMER: https://www.easternct.edu/university-disclaimer.html\n",
      "EMERGENCY: https://www.easternct.edu/emergency-alerts/index.html\n",
      "COOKIE POLICY: https://www.easternct.edu/cookie-policy.html\n",
      "PRIVACY NOTICES: https://www.easternct.edu/privacy-notices.html\n",
      "ADA ISSUES: https://www.easternct.edu/ada-issues.html\n",
      "FREEDOM OF INFORMATION: https://www.ct.edu/legal/foi\n",
      "NON-DISCRIMINATION NOTICE: https://www.easternct.edu/nondiscrimination.html\n",
      "View Privacy Notices: https://www.easternct.edu/privacy-notices.html\n"
     ]
    }
   ],
   "source": [
    "links = driver.find_elements(By.TAG_NAME, 'a')\n",
    "for l in links :\n",
    "        text = l.text\n",
    "        if l.text != '':\n",
    "            print(text, l.get_attribute('href'), sep = ': ')"
   ]
  },
  {
   "cell_type": "markdown",
   "metadata": {
    "deletable": false,
    "editable": false
   },
   "source": [
    "### Searching by link text\n",
    "\n",
    "- use the *By.LINK_TEXT* option to search for elements whose link text is an exact match\n",
    "- use the *By.PARTIAL_TEXT* to search for elements whose link text *contains* the text\n",
    "\n",
    "Note: *text* here refers to the text value of the element, which can contain the *text* from more than one tag, as is the case for the last link in the second example."
   ]
  },
  {
   "cell_type": "code",
   "execution_count": null,
   "metadata": {},
   "outputs": [],
   "source": [
    "driver.find_element(By.LINK_TEXT, 'CONTACT US')"
   ]
  },
  {
   "cell_type": "code",
   "execution_count": null,
   "metadata": {},
   "outputs": [],
   "source": [
    "cs_links = driver.find_elements(By.PARTIAL_LINK_TEXT, 'Computer')\n",
    "for cs in cs_links :\n",
    "    print(cs.text)"
   ]
  },
  {
   "cell_type": "markdown",
   "metadata": {
    "deletable": false,
    "editable": false
   },
   "source": [
    "### Close the driver\n",
    "\n",
    "Close the driver when you are done."
   ]
  },
  {
   "cell_type": "code",
   "execution_count": null,
   "metadata": {
    "deletable": false,
    "editable": false
   },
   "outputs": [],
   "source": [
    "driver.close()"
   ]
  },
  {
   "cell_type": "markdown",
   "metadata": {
    "deletable": false,
    "editable": false
   },
   "source": [
    "### Headless browsers and screenshots\n",
    "\n",
    "It is possible to make a browser *headless* (meaning the browser no longer has a GUI and you therefore will not see it), by setting *options* as in the code below. You can also save a screenshot of, which is commonly done with testing. "
   ]
  },
  {
   "cell_type": "code",
   "execution_count": null,
   "metadata": {
    "deletable": false,
    "editable": false
   },
   "outputs": [],
   "source": [
    "# configure headless browser\n",
    "from selenium.webdriver.firefox.options import Options\n",
    "options = Options()\n",
    "options.headless = True\n",
    "print('configuring headless browser ...')\n",
    "driver = webdriver.Firefox(options=options)\n",
    "\n",
    "# go to Google News and take a screenshot\n",
    "print('opening http://news.google.com ...')\n",
    "driver.get('http://news.google.com')\n",
    "\n",
    "print('take a screenshot ...')\n",
    "driver.save_screenshot('google_news.png')\n",
    "\n",
    "# close the browser\n",
    "print('close the browser...')\n",
    "driver.close()\n",
    "\n",
    "print('done!')"
   ]
  },
  {
   "cell_type": "markdown",
   "metadata": {
    "deletable": false,
    "editable": false
   },
   "source": [
    "### Searching by xpath\n",
    "\n",
    "Xpath uses path expressions to select nodes in an XML (or HTML) document. For more information, see: https://www.w3schools.com/xml/xpath_syntax.asp. In some cases, specifying the *xpath* may be more intuitive and/or more powerful."
   ]
  },
  {
   "cell_type": "code",
   "execution_count": null,
   "metadata": {
    "deletable": false,
    "editable": false
   },
   "outputs": [],
   "source": [
    "driver = webdriver.Firefox()\n",
    "driver.get('http://www.easternct.edu')"
   ]
  },
  {
   "cell_type": "markdown",
   "metadata": {
    "deletable": false,
    "editable": false
   },
   "source": [
    "Here we use a CSS selector to get the 3rd list item inside of the *div* with class 'main-menu-bg'."
   ]
  },
  {
   "cell_type": "code",
   "execution_count": null,
   "metadata": {
    "deletable": false,
    "editable": false
   },
   "outputs": [],
   "source": [
    "info_link = driver.find_element(By.CSS_SELECTOR, 'div.main-menu-bg li:nth-child(3)')\n",
    "info_link.text"
   ]
  },
  {
   "cell_type": "markdown",
   "metadata": {
    "deletable": false,
    "editable": false
   },
   "source": [
    "We can do the same thing using xpath. Note that we use the following:\n",
    "\n",
    "- two slashes (//) says to search starting from the current node (if you use a single slash, then the path must match exactly)\n",
    "- you can look for an attribute using [@attribute = value] (an exact match is required)\n",
    "- element[n] will match the *nth* element\n",
    "\n",
    "Note: @class= identifies classes that match exactly; if the element could contain multiple classes, you shouls use the *contains* xpath function (see link below)."
   ]
  },
  {
   "cell_type": "code",
   "execution_count": null,
   "metadata": {
    "deletable": false,
    "editable": false
   },
   "outputs": [],
   "source": [
    "info_link = driver.find_element(By.XPATH, '//div[@class=\"main-menu-bg\"]//li[3]')\n",
    "info_link.text"
   ]
  },
  {
   "cell_type": "markdown",
   "metadata": {
    "deletable": false,
    "editable": false
   },
   "source": [
    "In general, anything you can match using a CSS SELECTOR can also be matched by specifying an XPATH. But XPATH also allows for \"other things\", such as text matches, that could not be specified otherwise. See https://devhints.io/xpath"
   ]
  },
  {
   "cell_type": "code",
   "execution_count": null,
   "metadata": {
    "deletable": false,
    "editable": false
   },
   "outputs": [],
   "source": [
    "ugr = driver.find_element(By.XPATH, '//h3[(text() = \"Undergraduate Research\")]/..')\n",
    "ugr.text"
   ]
  },
  {
   "cell_type": "markdown",
   "metadata": {
    "deletable": false,
    "editable": false
   },
   "source": [
    "But in order to get the summary, we need to click on it, since the summary is currently not displayed."
   ]
  },
  {
   "cell_type": "code",
   "execution_count": null,
   "metadata": {
    "deletable": false,
    "editable": false
   },
   "outputs": [],
   "source": [
    "ugr.click()"
   ]
  },
  {
   "cell_type": "code",
   "execution_count": null,
   "metadata": {
    "deletable": false,
    "editable": false
   },
   "outputs": [],
   "source": [
    "print(ugr.text)"
   ]
  },
  {
   "cell_type": "code",
   "execution_count": null,
   "metadata": {},
   "outputs": [],
   "source": []
  },
  {
   "cell_type": "markdown",
   "metadata": {},
   "source": [
    "### Exercise: \n",
    "Search for a movie on IMDB and go to the page for the first result by *clicking* on the link. \n",
    "Can you extract the title and rating?\n",
    "\n",
    "Note: It is important to sleep for a second or two between carrying out the search and going to the first result. \n"
   ]
  },
  {
   "cell_type": "code",
   "execution_count": null,
   "metadata": {
    "deletable": false,
    "editable": false
   },
   "outputs": [],
   "source": [
    "import time"
   ]
  },
  {
   "cell_type": "code",
   "execution_count": null,
   "metadata": {},
   "outputs": [],
   "source": []
  }
 ],
 "metadata": {
  "kernelspec": {
   "display_name": "Python 3",
   "language": "python",
   "name": "python3"
  },
  "language_info": {
   "codemirror_mode": {
    "name": "ipython",
    "version": 3
   },
   "file_extension": ".py",
   "mimetype": "text/x-python",
   "name": "python",
   "nbconvert_exporter": "python",
   "pygments_lexer": "ipython3",
   "version": "3.7.6"
  }
 },
 "nbformat": 4,
 "nbformat_minor": 2
}
